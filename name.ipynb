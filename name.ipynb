{
 "cells": [
  {
   "cell_type": "markdown",
   "id": "e26250fe-ace9-4e29-aa2a-ff36ae8220c7",
   "metadata": {},
   "source": [
    "Hello!"
   ]
  },
  {
   "cell_type": "code",
   "execution_count": 2,
   "id": "7f885b2e-c214-40da-bf43-4c0beb3492b1",
   "metadata": {},
   "outputs": [
    {
     "data": {
      "text/html": [
       "'Ayasha'"
      ],
      "text/latex": [
       "'Ayasha'"
      ],
      "text/markdown": [
       "'Ayasha'"
      ],
      "text/plain": [
       "[1] \"Ayasha\""
      ]
     },
     "metadata": {},
     "output_type": "display_data"
    }
   ],
   "source": [
    "name <- \"Ayasha\"\n",
    "\n",
    "name"
   ]
  },
  {
   "cell_type": "code",
   "execution_count": null,
   "id": "01f5e0a9-6e2a-459d-bea0-0e6ff93b8dd2",
   "metadata": {},
   "outputs": [],
   "source": []
  }
 ],
 "metadata": {
  "kernelspec": {
   "display_name": "R",
   "language": "R",
   "name": "ir"
  },
  "language_info": {
   "codemirror_mode": "r",
   "file_extension": ".r",
   "mimetype": "text/x-r-source",
   "name": "R",
   "pygments_lexer": "r",
   "version": "4.1.1"
  }
 },
 "nbformat": 4,
 "nbformat_minor": 5
}
